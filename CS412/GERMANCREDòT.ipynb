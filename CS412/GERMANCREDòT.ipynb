{
  "cells": [
    {
      "cell_type": "code",
      "execution_count": 1,
      "metadata": {
        "id": "VJvt7KP5E3p5"
      },
      "outputs": [],
      "source": [
        "import pandas as pd "
      ]
    },
    {
      "cell_type": "code",
      "execution_count": 2,
      "metadata": {
        "id": "yxZJzCunF56z"
      },
      "outputs": [],
      "source": [
        "df = pd.read_csv('german_credit_data.csv')"
      ]
    },
    {
      "cell_type": "code",
      "execution_count": 3,
      "metadata": {
        "id": "EJHgxqffxCaQ"
      },
      "outputs": [],
      "source": [
        "df = df.drop('Unnamed: 0', axis=1)\n"
      ]
    },
    {
      "cell_type": "code",
      "execution_count": 4,
      "metadata": {
        "colab": {
          "base_uri": "https://localhost:8080/"
        },
        "id": "AgV3NkhWGTod",
        "outputId": "6b588a0d-cc5c-4c4b-c92c-8ad400fe7fc1"
      },
      "outputs": [
        {
          "name": "stdout",
          "output_type": "stream",
          "text": [
            "Unique values in Saving accounts: [nan 'little' 'quite rich' 'rich' 'moderate']\n",
            "Unique values in Checking account: ['little' 'moderate' nan 'rich']\n",
            "Unique values in Sex: ['male' 'female']\n",
            "Unique values in Housing: ['own' 'free' 'rent']\n"
          ]
        }
      ],
      "source": [
        "columns = ['Saving accounts', 'Checking account', 'Sex', 'Housing']\n",
        "\n",
        "for column in columns:\n",
        "    unique_values = df[column].unique()\n",
        "    print(\"Unique values in {}: {}\".format(column, unique_values))\n"
      ]
    },
    {
      "cell_type": "code",
      "execution_count": 5,
      "metadata": {
        "id": "ZixjZ_o5uB5V"
      },
      "outputs": [],
      "source": [
        "df['Saving accounts'] = df['Saving accounts'].replace({'little': 0, 'moderate': 1, 'rich': 2, 'quite rich': 3})\n",
        "\n",
        "df['Checking account'] = df['Checking account'].replace({'little': 1, 'moderate': 2, 'rich': 3})\n",
        "\n",
        "df['Sex'] = df['Sex'].replace({'male': 1, 'female': 0})\n",
        "\n",
        "df['Housing'] = df['Housing'].replace({'own': 2, 'free': 0, 'rent': 1})\n",
        "\n",
        "df['Risk'] = df['Risk'].replace({'good': 1, 'bad': 0})\n",
        "\n",
        "df = pd.get_dummies(df, columns=['Purpose'])\n"
      ]
    },
    {
      "cell_type": "code",
      "execution_count": null,
      "metadata": {
        "id": "6sS_CAQXzcqe"
      },
      "outputs": [],
      "source": []
    },
    {
      "cell_type": "code",
      "execution_count": 6,
      "metadata": {
        "id": "jerXQNFE94_t"
      },
      "outputs": [],
      "source": [
        "from sklearn.impute import KNNImputer\n",
        "\n",
        "imputer = KNNImputer(n_neighbors=5)\n",
        "df_imputed = pd.DataFrame(imputer.fit_transform(df), columns=df.columns)\n"
      ]
    },
    {
      "cell_type": "code",
      "execution_count": 7,
      "metadata": {
        "id": "I3Yv1ffw-J_c"
      },
      "outputs": [],
      "source": [
        "from sklearn.model_selection import train_test_split\n",
        "\n",
        "y = df_imputed['Risk']\n",
        "X = df_imputed.drop(['Risk'], axis=1)\n",
        "\n",
        "random_state = 42\n",
        "test_size = 0.3\n",
        "\n",
        "X_train, X_test, y_train, y_test = train_test_split(X, y, test_size=test_size, random_state=random_state)\n"
      ]
    },
    {
      "attachments": {},
      "cell_type": "markdown",
      "metadata": {
        "id": "7s10NWtS_qDV"
      },
      "source": [
        "# **KNN**\n"
      ]
    },
    {
      "cell_type": "code",
      "execution_count": 8,
      "metadata": {
        "colab": {
          "base_uri": "https://localhost:8080/"
        },
        "id": "UK4sDOWl_r8i",
        "outputId": "302caa56-d1ff-47c9-d6fb-e31d5faa06e9"
      },
      "outputs": [
        {
          "name": "stdout",
          "output_type": "stream",
          "text": [
            "{'n_neighbors': 7, 'p': 1, 'weights': 'distance'}\n",
            "0.6533333333333333\n"
          ]
        }
      ],
      "source": [
        "from sklearn.neighbors import KNeighborsClassifier\n",
        "from sklearn.model_selection import GridSearchCV\n",
        "from sklearn.metrics import accuracy_score\n",
        "\n",
        "knn_params = {\n",
        "    'n_neighbors': [3, 5, 7],\n",
        "    'weights': ['uniform', 'distance'],\n",
        "    'p': [1, 2]\n",
        "}\n",
        "\n",
        "knn = KNeighborsClassifier()\n",
        "knn_cv_model = GridSearchCV(knn, knn_params, cv=5).fit(X_train, y_train)\n",
        "print(knn_cv_model.best_params_)\n",
        "\n",
        "knn_tuned = KNeighborsClassifier(\n",
        "    n_neighbors=knn_cv_model.best_params_['n_neighbors'],\n",
        "    weights=knn_cv_model.best_params_['weights'],\n",
        "    p=knn_cv_model.best_params_['p']\n",
        ").fit(X_train, y_train)\n",
        "\n",
        "y_pred = knn_tuned.predict(X_test)\n",
        "print(accuracy_score(y_test, y_pred))\n"
      ]
    },
    {
      "attachments": {},
      "cell_type": "markdown",
      "metadata": {
        "id": "2kKjSVnHD6n8"
      },
      "source": [
        "# **Logistic Regression**"
      ]
    },
    {
      "cell_type": "code",
      "execution_count": 9,
      "metadata": {
        "colab": {
          "base_uri": "https://localhost:8080/"
        },
        "id": "vxPOgP19B0WM",
        "outputId": "e45bdb57-5a39-4bdc-8155-01ad02901281"
      },
      "outputs": [
        {
          "name": "stderr",
          "output_type": "stream",
          "text": [
            "c:\\Users\\kadir\\anaconda3\\envs\\udemy\\lib\\site-packages\\sklearn\\linear_model\\_sag.py:350: ConvergenceWarning: The max_iter was reached which means the coef_ did not converge\n",
            "  warnings.warn(\n",
            "c:\\Users\\kadir\\anaconda3\\envs\\udemy\\lib\\site-packages\\sklearn\\linear_model\\_sag.py:350: ConvergenceWarning: The max_iter was reached which means the coef_ did not converge\n",
            "  warnings.warn(\n",
            "c:\\Users\\kadir\\anaconda3\\envs\\udemy\\lib\\site-packages\\sklearn\\linear_model\\_sag.py:350: ConvergenceWarning: The max_iter was reached which means the coef_ did not converge\n",
            "  warnings.warn(\n",
            "c:\\Users\\kadir\\anaconda3\\envs\\udemy\\lib\\site-packages\\sklearn\\linear_model\\_sag.py:350: ConvergenceWarning: The max_iter was reached which means the coef_ did not converge\n",
            "  warnings.warn(\n",
            "c:\\Users\\kadir\\anaconda3\\envs\\udemy\\lib\\site-packages\\sklearn\\linear_model\\_sag.py:350: ConvergenceWarning: The max_iter was reached which means the coef_ did not converge\n",
            "  warnings.warn(\n",
            "c:\\Users\\kadir\\anaconda3\\envs\\udemy\\lib\\site-packages\\sklearn\\linear_model\\_sag.py:350: ConvergenceWarning: The max_iter was reached which means the coef_ did not converge\n",
            "  warnings.warn(\n",
            "c:\\Users\\kadir\\anaconda3\\envs\\udemy\\lib\\site-packages\\sklearn\\linear_model\\_sag.py:350: ConvergenceWarning: The max_iter was reached which means the coef_ did not converge\n",
            "  warnings.warn(\n",
            "c:\\Users\\kadir\\anaconda3\\envs\\udemy\\lib\\site-packages\\sklearn\\linear_model\\_sag.py:350: ConvergenceWarning: The max_iter was reached which means the coef_ did not converge\n",
            "  warnings.warn(\n",
            "c:\\Users\\kadir\\anaconda3\\envs\\udemy\\lib\\site-packages\\sklearn\\linear_model\\_sag.py:350: ConvergenceWarning: The max_iter was reached which means the coef_ did not converge\n",
            "  warnings.warn(\n",
            "c:\\Users\\kadir\\anaconda3\\envs\\udemy\\lib\\site-packages\\sklearn\\linear_model\\_sag.py:350: ConvergenceWarning: The max_iter was reached which means the coef_ did not converge\n",
            "  warnings.warn(\n",
            "c:\\Users\\kadir\\anaconda3\\envs\\udemy\\lib\\site-packages\\sklearn\\linear_model\\_sag.py:350: ConvergenceWarning: The max_iter was reached which means the coef_ did not converge\n",
            "  warnings.warn(\n",
            "c:\\Users\\kadir\\anaconda3\\envs\\udemy\\lib\\site-packages\\sklearn\\linear_model\\_sag.py:350: ConvergenceWarning: The max_iter was reached which means the coef_ did not converge\n",
            "  warnings.warn(\n",
            "c:\\Users\\kadir\\anaconda3\\envs\\udemy\\lib\\site-packages\\sklearn\\linear_model\\_sag.py:350: ConvergenceWarning: The max_iter was reached which means the coef_ did not converge\n",
            "  warnings.warn(\n"
          ]
        },
        {
          "name": "stdout",
          "output_type": "stream",
          "text": [
            "{'C': 0.1, 'penalty': 'l2', 'solver': 'liblinear'}\n",
            "0.7066666666666667\n",
            "{'C': 0.1, 'penalty': 'l2', 'solver': 'liblinear'}\n"
          ]
        },
        {
          "name": "stderr",
          "output_type": "stream",
          "text": [
            "c:\\Users\\kadir\\anaconda3\\envs\\udemy\\lib\\site-packages\\sklearn\\linear_model\\_sag.py:350: ConvergenceWarning: The max_iter was reached which means the coef_ did not converge\n",
            "  warnings.warn(\n",
            "c:\\Users\\kadir\\anaconda3\\envs\\udemy\\lib\\site-packages\\sklearn\\linear_model\\_sag.py:350: ConvergenceWarning: The max_iter was reached which means the coef_ did not converge\n",
            "  warnings.warn(\n",
            "c:\\Users\\kadir\\anaconda3\\envs\\udemy\\lib\\site-packages\\sklearn\\linear_model\\_sag.py:350: ConvergenceWarning: The max_iter was reached which means the coef_ did not converge\n",
            "  warnings.warn(\n",
            "c:\\Users\\kadir\\anaconda3\\envs\\udemy\\lib\\site-packages\\sklearn\\linear_model\\_sag.py:350: ConvergenceWarning: The max_iter was reached which means the coef_ did not converge\n",
            "  warnings.warn(\n",
            "c:\\Users\\kadir\\anaconda3\\envs\\udemy\\lib\\site-packages\\sklearn\\linear_model\\_sag.py:350: ConvergenceWarning: The max_iter was reached which means the coef_ did not converge\n",
            "  warnings.warn(\n",
            "c:\\Users\\kadir\\anaconda3\\envs\\udemy\\lib\\site-packages\\sklearn\\linear_model\\_sag.py:350: ConvergenceWarning: The max_iter was reached which means the coef_ did not converge\n",
            "  warnings.warn(\n",
            "c:\\Users\\kadir\\anaconda3\\envs\\udemy\\lib\\site-packages\\sklearn\\linear_model\\_sag.py:350: ConvergenceWarning: The max_iter was reached which means the coef_ did not converge\n",
            "  warnings.warn(\n"
          ]
        }
      ],
      "source": [
        "from sklearn.linear_model import LogisticRegression\n",
        "\n",
        "\n",
        "logreg_params = {\n",
        "    'penalty': ['l1', 'l2'],\n",
        "    'C': [0.1, 1],\n",
        "    'solver': ['liblinear', 'saga']\n",
        "}\n",
        "\n",
        "logreg = LogisticRegression()\n",
        "logreg_cv_model = GridSearchCV(logreg, logreg_params, cv=5).fit(X_train, y_train)\n",
        "print(logreg_cv_model.best_params_)\n",
        "\n",
        "logreg_tuned = LogisticRegression(\n",
        "    penalty=logreg_cv_model.best_params_['penalty'],\n",
        "    C=logreg_cv_model.best_params_['C'],\n",
        "    solver=logreg_cv_model.best_params_['solver']\n",
        ").fit(X_train, y_train)\n",
        "\n",
        "y_pred = logreg_tuned.predict(X_test)\n",
        "print(accuracy_score(y_test, y_pred))\n",
        "print(logreg_cv_model.best_params_)\n"
      ]
    },
    {
      "attachments": {},
      "cell_type": "markdown",
      "metadata": {
        "id": "UB-9d7sCFA3r"
      },
      "source": [
        "# Decision Tree\n"
      ]
    },
    {
      "cell_type": "code",
      "execution_count": 10,
      "metadata": {
        "colab": {
          "base_uri": "https://localhost:8080/"
        },
        "id": "MGFnMm8PESWV",
        "outputId": "2fd29c8c-3fee-4f56-d271-55718bd2e431"
      },
      "outputs": [
        {
          "name": "stdout",
          "output_type": "stream",
          "text": [
            "{'criterion': 'entropy', 'max_depth': 7, 'min_samples_split': 10}\n",
            "0.73\n"
          ]
        }
      ],
      "source": [
        "from sklearn.tree import DecisionTreeClassifier\n",
        "from sklearn.model_selection import GridSearchCV\n",
        "from sklearn.metrics import accuracy_score\n",
        "\n",
        "cart = DecisionTreeClassifier()\n",
        "cart_params = {\n",
        "    'max_depth': [3, 5, 7],\n",
        "    'min_samples_split': [2, 5, 10],\n",
        "    'criterion': ['gini', 'entropy']\n",
        "}\n",
        "\n",
        "cart_cv_model = GridSearchCV(cart, cart_params, cv=5).fit(X_train, y_train)\n",
        "print(cart_cv_model.best_params_)\n",
        "\n",
        "cart_tuned = DecisionTreeClassifier(\n",
        "    max_depth=cart_cv_model.best_params_['max_depth'],\n",
        "    min_samples_split=cart_cv_model.best_params_['min_samples_split'],\n",
        "    criterion=cart_cv_model.best_params_['criterion']\n",
        ").fit(X_train, y_train)\n",
        "\n",
        "y_pred = cart_tuned.predict(X_test)\n",
        "print(accuracy_score(y_test, y_pred))\n"
      ]
    },
    {
      "attachments": {},
      "cell_type": "markdown",
      "metadata": {
        "id": "lA6f8sk-b6RL"
      },
      "source": [
        "# **Bonus: Improving the Model with Feature Selection**"
      ]
    },
    {
      "cell_type": "code",
      "execution_count": 11,
      "metadata": {
        "colab": {
          "base_uri": "https://localhost:8080/"
        },
        "id": "MbDf4Jghce9z",
        "outputId": "9fdf5c49-b30f-4fc0-9295-96c9eaf133ab"
      },
      "outputs": [
        {
          "name": "stdout",
          "output_type": "stream",
          "text": [
            "  Improving the Model with Feature Selection Score: 0.71\n"
          ]
        }
      ],
      "source": [
        "from sklearn.ensemble import RandomForestClassifier\n",
        "from sklearn.feature_selection import SelectFromModel\n",
        "\n",
        "rf = RandomForestClassifier(n_estimators=100, random_state=42)\n",
        "rf.fit(X_train, y_train)\n",
        "\n",
        "feature_importances = rf.feature_importances_\n",
        "\n",
        "selector = SelectFromModel(rf, threshold=0.05)\n",
        "selector.fit(X_train, y_train)\n",
        "\n",
        "X_train_selected = selector.transform(X_train)\n",
        "X_test_selected = selector.transform(X_test)\n",
        "\n",
        "model = LogisticRegression()\n",
        "model.fit(X_train_selected, y_train)\n",
        "\n",
        "y_pred = model.predict(X_test_selected)\n",
        "accuracy = accuracy_score(y_test, y_pred)\n",
        "print(\"  Improving the Model with Feature Selection Score: {:.2f}\".format(accuracy))\n"
      ]
    },
    {
      "cell_type": "code",
      "execution_count": null,
      "metadata": {
        "id": "ls98l62una-c"
      },
      "outputs": [],
      "source": []
    },
    {
      "cell_type": "code",
      "execution_count": null,
      "metadata": {},
      "outputs": [],
      "source": []
    },
    {
      "cell_type": "code",
      "execution_count": null,
      "metadata": {},
      "outputs": [],
      "source": []
    }
  ],
  "metadata": {
    "colab": {
      "provenance": []
    },
    "kernelspec": {
      "display_name": "Python 3",
      "name": "python3"
    },
    "language_info": {
      "codemirror_mode": {
        "name": "ipython",
        "version": 3
      },
      "file_extension": ".py",
      "mimetype": "text/x-python",
      "name": "python",
      "nbconvert_exporter": "python",
      "pygments_lexer": "ipython3",
      "version": "3.10.8"
    }
  },
  "nbformat": 4,
  "nbformat_minor": 0
}
